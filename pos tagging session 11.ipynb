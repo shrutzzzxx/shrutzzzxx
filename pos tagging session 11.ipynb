{
 "cells": [
  {
   "cell_type": "code",
   "execution_count": 7,
   "id": "115bc823-e418-4aad-850e-fa5f16f2c66a",
   "metadata": {},
   "outputs": [],
   "source": [
    "import spacy "
   ]
  },
  {
   "cell_type": "code",
   "execution_count": 8,
   "id": "718367e8-2b8b-4377-874a-90fa3c1e36c6",
   "metadata": {},
   "outputs": [],
   "source": [
    "nlp = spacy.load(\"en_core_web_sm\")"
   ]
  },
  {
   "cell_type": "code",
   "execution_count": 6,
   "id": "dcdf7e14-d806-45ad-a2d3-d16cca28973a",
   "metadata": {},
   "outputs": [
    {
     "name": "stdout",
     "output_type": "stream",
     "text": [
      "Elon | PROPN | proper noun\n",
      "Musk | PROPN | proper noun\n",
      "flew | VERB | verb\n",
      "to | ADP | adposition\n",
      "mars | NOUN | noun\n",
      "yesterday | NOUN | noun\n",
      ". | PUNCT | punctuation\n",
      "He | PRON | pronoun\n",
      "carried | VERB | verb\n",
      "cheetos | NOUN | noun\n",
      "with | ADP | adposition\n",
      "him | PRON | pronoun\n",
      ". | PUNCT | punctuation\n"
     ]
    }
   ],
   "source": [
    "doc = nlp(\"Elon Musk flew to mars yesterday. He carried cheetos with him.\")\n",
    "for token in doc:\n",
    "    print(token, \"|\", token.pos_, \"|\", spacy.explain(token.pos_))"
   ]
  },
  {
   "cell_type": "code",
   "execution_count": 10,
   "id": "bb293229-6161-49fa-8f80-69ef66a4090a",
   "metadata": {},
   "outputs": [
    {
     "name": "stdout",
     "output_type": "stream",
     "text": [
      "Elon | PROPN | proper noun | NNP | noun, proper singular\n",
      "Musk | PROPN | proper noun | NNP | noun, proper singular\n",
      "flew | VERB | verb | VBD | verb, past tense\n",
      "to | ADP | adposition | IN | conjunction, subordinating or preposition\n",
      "mars | NOUN | noun | NNS | noun, plural\n",
      "yesterday | NOUN | noun | NN | noun, singular or mass\n",
      ". | PUNCT | punctuation | . | punctuation mark, sentence closer\n",
      "He | PRON | pronoun | PRP | pronoun, personal\n",
      "carried | VERB | verb | VBD | verb, past tense\n",
      "cheetos | NOUN | noun | NNS | noun, plural\n",
      "with | ADP | adposition | IN | conjunction, subordinating or preposition\n",
      "him | PRON | pronoun | PRP | pronoun, personal\n",
      ". | PUNCT | punctuation | . | punctuation mark, sentence closer\n"
     ]
    }
   ],
   "source": [
    "doc = nlp(\"Elon Musk flew to mars yesterday. He carried cheetos with him.\")\n",
    "for token in doc:\n",
    "    print(token, \"|\", token.pos_, \"|\", spacy.explain(token.pos_), \"|\", token.tag_, \"|\", spacy.explain(token.tag_))"
   ]
  },
  {
   "cell_type": "code",
   "execution_count": 12,
   "id": "5c8c516e-3c61-47ab-ab5e-17f02f1ab422",
   "metadata": {},
   "outputs": [
    {
     "name": "stdout",
     "output_type": "stream",
     "text": [
      "He | PRON | pronoun | PRP | pronoun, personal\n",
      "quit | VERB | verb | VBD | verb, past tense\n",
      "his | PRON | pronoun | PRP$ | pronoun, possessive\n",
      "job | NOUN | noun | NN | noun, singular or mass\n",
      ". | PUNCT | punctuation | . | punctuation mark, sentence closer\n"
     ]
    }
   ],
   "source": [
    "doc = nlp(\"He quit his job.\")\n",
    "for token in doc:\n",
    "    print(token, \"|\", token.pos_, \"|\", spacy.explain(token.pos_), \"|\", token.tag_, \"|\", spacy.explain(token.tag_))"
   ]
  },
  {
   "cell_type": "code",
   "execution_count": 14,
   "id": "75367516-b701-4ff0-a920-91924379572a",
   "metadata": {},
   "outputs": [],
   "source": [
    "text=\"\"\"Valence electrons found in the \n",
    " and \n",
    " orbitals of the highest energy.\n",
    "Bromine has an electron configuration of \n",
    " the valence electrons are in the \n",
    " and \n",
    " orbitals giving Bromine \n",
    " valence electrons.\"\"\""
   ]
  },
  {
   "cell_type": "code",
   "execution_count": 18,
   "id": "513635db-771c-43e5-b840-28266c162d18",
   "metadata": {},
   "outputs": [],
   "source": [
    "doc = nlp(text)\n",
    "filtered_tokens =[]\n",
    "for token in doc:\n",
    "    if token.pos_ not in [\"SPACE\", \"X\", \"PUNT\"]:\n",
    "        filtered_tokens.append(token)"
   ]
  },
  {
   "cell_type": "code",
   "execution_count": 20,
   "id": "020a4be0-ac65-49e2-b2fa-df9f092779ef",
   "metadata": {},
   "outputs": [
    {
     "data": {
      "text/plain": [
       "[Valence,\n",
       " electrons,\n",
       " found,\n",
       " in,\n",
       " the,\n",
       " and,\n",
       " orbitals,\n",
       " of,\n",
       " the,\n",
       " highest,\n",
       " energy,\n",
       " .,\n",
       " Bromine,\n",
       " has,\n",
       " an,\n",
       " electron,\n",
       " configuration,\n",
       " of,\n",
       " the,\n",
       " valence,\n",
       " electrons,\n",
       " are,\n",
       " in,\n",
       " the,\n",
       " and,\n",
       " orbitals,\n",
       " giving,\n",
       " Bromine,\n",
       " valence,\n",
       " electrons]"
      ]
     },
     "execution_count": 20,
     "metadata": {},
     "output_type": "execute_result"
    }
   ],
   "source": [
    "filtered_tokens[:30]"
   ]
  },
  {
   "cell_type": "code",
   "execution_count": 22,
   "id": "4c950e92-dbe3-4872-be26-82243f3605ba",
   "metadata": {},
   "outputs": [
    {
     "data": {
      "text/plain": [
       "{92: 11, 100: 3, 85: 4, 90: 5, 103: 7, 89: 2, 84: 1, 97: 2, 96: 2, 87: 1}"
      ]
     },
     "execution_count": 22,
     "metadata": {},
     "output_type": "execute_result"
    }
   ],
   "source": [
    "count= doc.count_by(spacy.attrs.POS)\n",
    "count"
   ]
  },
  {
   "cell_type": "code",
   "execution_count": 26,
   "id": "bc1bc6cd-95bd-4529-ad94-7c2d5edae53a",
   "metadata": {},
   "outputs": [
    {
     "name": "stdout",
     "output_type": "stream",
     "text": [
      "PROPN\n",
      "PROPN\n",
      "PROPN\n",
      "PROPN\n",
      "PROPN\n",
      "PROPN\n",
      "PROPN\n",
      "PROPN\n",
      "PROPN\n",
      "PROPN\n"
     ]
    }
   ],
   "source": [
    "for k,v in count.items(): \n",
    "    print(doc.vocab[96].text)"
   ]
  }
 ],
 "metadata": {
  "kernelspec": {
   "display_name": "Python 3 (ipykernel)",
   "language": "python",
   "name": "python3"
  },
  "language_info": {
   "codemirror_mode": {
    "name": "ipython",
    "version": 3
   },
   "file_extension": ".py",
   "mimetype": "text/x-python",
   "name": "python",
   "nbconvert_exporter": "python",
   "pygments_lexer": "ipython3",
   "version": "3.12.1"
  }
 },
 "nbformat": 4,
 "nbformat_minor": 5
}
