{
 "cells": [
  {
   "cell_type": "code",
   "execution_count": 1,
   "id": "b19b2c0a-ee9a-4f28-a3fe-3d58d25e5898",
   "metadata": {},
   "outputs": [],
   "source": [
    "import spacy "
   ]
  },
  {
   "cell_type": "code",
   "execution_count": 2,
   "id": "f0d089b3-a2c7-43fe-aacb-ef34da5659f1",
   "metadata": {},
   "outputs": [
    {
     "name": "stdout",
     "output_type": "stream",
     "text": [
      "My name is shruti.\n",
      "My brothers name is avinash.\n"
     ]
    }
   ],
   "source": [
    "#sentence tokenization \n",
    "nlp = spacy.load(\"en_core_web_sm\")\n",
    "\n",
    "doc = nlp(\"My name is shruti. My brothers name is avinash.\")\n",
    "\n",
    "for sentence in doc.sents:\n",
    "    print(sentence)"
   ]
  },
  {
   "cell_type": "code",
   "execution_count": 3,
   "id": "fcadc288-1f4d-404e-a703-e887cdbd846c",
   "metadata": {},
   "outputs": [
    {
     "name": "stdout",
     "output_type": "stream",
     "text": [
      "My name is shruti.\n",
      "My brothers name is avinash.\n"
     ]
    }
   ],
   "source": [
    "#sentence tokenization \n",
    "nlp = spacy.load(\"en_core_web_sm\")\n",
    "\n",
    "doc = nlp(\"My name is shruti. My brothers name is avinash.\")\n",
    "\n",
    "for sentence in doc.sents:\n",
    "    print(sentence)\n"
   ]
  },
  {
   "cell_type": "code",
   "execution_count": 4,
   "id": "fd5d4005-11bc-4b25-bce8-ea8d686c22e7",
   "metadata": {},
   "outputs": [
    {
     "name": "stderr",
     "output_type": "stream",
     "text": [
      "[nltk_data] Downloading package punkt to\n",
      "[nltk_data]     C:\\Users\\aswin\\AppData\\Roaming\\nltk_data...\n",
      "[nltk_data]   Unzipping tokenizers\\punkt.zip.\n"
     ]
    },
    {
     "data": {
      "text/plain": [
       "True"
      ]
     },
     "execution_count": 4,
     "metadata": {},
     "output_type": "execute_result"
    }
   ],
   "source": [
    "import nltk\n",
    "\n",
    "nltk.download('punkt')"
   ]
  },
  {
   "cell_type": "code",
   "execution_count": 9,
   "id": "851ebaee-2eb7-40e6-9cdc-7c0ed315aaa3",
   "metadata": {},
   "outputs": [
    {
     "data": {
      "text/plain": [
       "['My name is shruti.', 'My brothers name is avinash.']"
      ]
     },
     "execution_count": 9,
     "metadata": {},
     "output_type": "execute_result"
    }
   ],
   "source": [
    "from nltk.tokenize import sent_tokenize\n",
    "sent_tokenize(\"My name is shruti. My brothers name is avinash.\")"
   ]
  },
  {
   "cell_type": "code",
   "execution_count": 10,
   "id": "b7bad854-bacf-4794-bc71-c237a8bfa873",
   "metadata": {},
   "outputs": [
    {
     "data": {
      "text/plain": [
       "['My',\n",
       " 'name',\n",
       " 'is',\n",
       " 'shruti',\n",
       " '.',\n",
       " 'My',\n",
       " 'brothers',\n",
       " 'name',\n",
       " 'is',\n",
       " 'avinash',\n",
       " '.']"
      ]
     },
     "execution_count": 10,
     "metadata": {},
     "output_type": "execute_result"
    }
   ],
   "source": [
    "from nltk.tokenize import word_tokenize\n",
    "word_tokenize(\"My name is shruti. My brothers name is avinash.\")"
   ]
  },
  {
   "cell_type": "code",
   "execution_count": 11,
   "id": "b2677b4c-d2fa-45c6-87ea-1dbdfb01a1fb",
   "metadata": {},
   "outputs": [],
   "source": [
    "nlp = spacy.load(\"en_core_web_sm\")\n"
   ]
  },
  {
   "cell_type": "code",
   "execution_count": 12,
   "id": "068067cd-4d51-4a91-8a6c-9854eb534aad",
   "metadata": {},
   "outputs": [
    {
     "data": {
      "text/plain": [
       "[('tok2vec', <spacy.pipeline.tok2vec.Tok2Vec at 0x142389d8ef0>),\n",
       " ('tagger', <spacy.pipeline.tagger.Tagger at 0x142389d8c50>),\n",
       " ('parser', <spacy.pipeline.dep_parser.DependencyParser at 0x142381fde70>),\n",
       " ('attribute_ruler',\n",
       "  <spacy.pipeline.attributeruler.AttributeRuler at 0x142389b43d0>),\n",
       " ('lemmatizer', <spacy.lang.en.lemmatizer.EnglishLemmatizer at 0x14238a05650>),\n",
       " ('ner', <spacy.pipeline.ner.EntityRecognizer at 0x142381fe180>)]"
      ]
     },
     "execution_count": 12,
     "metadata": {},
     "output_type": "execute_result"
    }
   ],
   "source": [
    "nlp.pipeline"
   ]
  },
  {
   "cell_type": "code",
   "execution_count": null,
   "id": "7575e82c-43ab-4126-91ab-949ad8aebfd3",
   "metadata": {},
   "outputs": [],
   "source": []
  }
 ],
 "metadata": {
  "kernelspec": {
   "display_name": "Python 3 (ipykernel)",
   "language": "python",
   "name": "python3"
  },
  "language_info": {
   "codemirror_mode": {
    "name": "ipython",
    "version": 3
   },
   "file_extension": ".py",
   "mimetype": "text/x-python",
   "name": "python",
   "nbconvert_exporter": "python",
   "pygments_lexer": "ipython3",
   "version": "3.12.1"
  }
 },
 "nbformat": 4,
 "nbformat_minor": 5
}
