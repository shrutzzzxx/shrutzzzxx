{
 "cells": [
  {
   "cell_type": "code",
   "execution_count": 7,
   "id": "3788a4a3-3810-4f4a-a838-791c9545d360",
   "metadata": {},
   "outputs": [
    {
     "data": {
      "text/plain": [
       "{'thor': 9,\n",
       " 'loves': 4,\n",
       " 'his': 1,\n",
       " 'mijolnir': 7,\n",
       " 'hammer': 0,\n",
       " 'thor loves': 10,\n",
       " 'loves his': 5,\n",
       " 'his mijolnir': 2,\n",
       " 'mijolnir hammer': 8,\n",
       " 'thor loves his': 11,\n",
       " 'loves his mijolnir': 6,\n",
       " 'his mijolnir hammer': 3}"
      ]
     },
     "execution_count": 7,
     "metadata": {},
     "output_type": "execute_result"
    }
   ],
   "source": [
    "from sklearn.feature_extraction.text import CountVectorizer \n",
    "v = CountVectorizer(ngram_range=(1,3))\n",
    "v.fit([\"Thor loves his mijolnir hammer\"])\n",
    "v.vocabulary_"
   ]
  },
  {
   "cell_type": "code",
   "execution_count": 8,
   "id": "066c0803-4939-493a-9383-3dfc7add3dce",
   "metadata": {},
   "outputs": [],
   "source": [
    "corpus = [ \"Thor ate pizza\", \"Loki is tall\", \" Loki is eating pizza\"]"
   ]
  },
  {
   "cell_type": "code",
   "execution_count": 9,
   "id": "a6a06d90-aa93-42bc-9030-ce62474ef6b8",
   "metadata": {},
   "outputs": [
    {
     "data": {
      "text/plain": [
       "'Loki eat pizza'"
      ]
     },
     "execution_count": 9,
     "metadata": {},
     "output_type": "execute_result"
    }
   ],
   "source": [
    "#vector_space_model \n",
    "import spacy \n",
    "nlp = spacy.load(\"en_core_web_sm\")\n",
    "def preprocess(text):\n",
    "    doc = nlp(text)\n",
    "\n",
    "    filtered_tokens = []\n",
    "    for token in doc:\n",
    "        if token.is_stop or token.is_punct:\n",
    "            continue \n",
    "        filtered_tokens.append(token.lemma_)\n",
    "\n",
    "    return \" \".join(filtered_tokens)\n",
    "preprocess(\"Loki is eating pizza\")"
   ]
  },
  {
   "cell_type": "code",
   "execution_count": 10,
   "id": "2d63c918-507b-491f-9985-dcde6b8c8ca3",
   "metadata": {},
   "outputs": [
    {
     "data": {
      "text/plain": [
       "['thor eat pizza', 'Loki tall', '  Loki eat pizza']"
      ]
     },
     "execution_count": 10,
     "metadata": {},
     "output_type": "execute_result"
    }
   ],
   "source": [
    "corpus_processed = [preprocess(text) for text in corpus] \n",
    "corpus_processed"
   ]
  },
  {
   "cell_type": "code",
   "execution_count": 11,
   "id": "ca6f5050-e1d0-4536-bd51-d225e1decce2",
   "metadata": {},
   "outputs": [
    {
     "data": {
      "text/plain": [
       "{'thor': 7,\n",
       " 'eat': 0,\n",
       " 'pizza': 5,\n",
       " 'thor eat': 8,\n",
       " 'eat pizza': 1,\n",
       " 'loki': 2,\n",
       " 'tall': 6,\n",
       " 'loki tall': 4,\n",
       " 'loki eat': 3}"
      ]
     },
     "execution_count": 11,
     "metadata": {},
     "output_type": "execute_result"
    }
   ],
   "source": [
    "v = CountVectorizer(ngram_range=(1,2))\n",
    "v.fit(corpus_processed)\n",
    "v.vocabulary_"
   ]
  },
  {
   "cell_type": "code",
   "execution_count": 13,
   "id": "15a6cd9d-f16d-4226-ac9a-5811a00995b0",
   "metadata": {},
   "outputs": [
    {
     "data": {
      "text/plain": [
       "array([[0, 0, 0, 0, 0, 1, 0, 1, 0]], dtype=int64)"
      ]
     },
     "execution_count": 13,
     "metadata": {},
     "output_type": "execute_result"
    }
   ],
   "source": [
    "v.transform([\"Thor ate pizza\"]).toarray()"
   ]
  },
  {
   "cell_type": "code",
   "execution_count": 14,
   "id": "86cb51a5-7910-4db5-84e6-9da5c08b8903",
   "metadata": {},
   "outputs": [
    {
     "data": {
      "text/plain": [
       "array([[0, 0, 0, 0, 0, 1, 0, 0, 0]], dtype=int64)"
      ]
     },
     "execution_count": 14,
     "metadata": {},
     "output_type": "execute_result"
    }
   ],
   "source": [
    "v.transform([\"Hulk ate pizza\"]).toarray()"
   ]
  },
  {
   "cell_type": "code",
   "execution_count": 4,
   "id": "0278c5a4-195f-46b3-8642-7844f314b603",
   "metadata": {},
   "outputs": [
    {
     "name": "stdout",
     "output_type": "stream",
     "text": [
      "(209527, 6)\n"
     ]
    },
    {
     "data": {
      "text/html": [
       "<div>\n",
       "<style scoped>\n",
       "    .dataframe tbody tr th:only-of-type {\n",
       "        vertical-align: middle;\n",
       "    }\n",
       "\n",
       "    .dataframe tbody tr th {\n",
       "        vertical-align: top;\n",
       "    }\n",
       "\n",
       "    .dataframe thead th {\n",
       "        text-align: right;\n",
       "    }\n",
       "</style>\n",
       "<table border=\"1\" class=\"dataframe\">\n",
       "  <thead>\n",
       "    <tr style=\"text-align: right;\">\n",
       "      <th></th>\n",
       "      <th>link</th>\n",
       "      <th>headline</th>\n",
       "      <th>category</th>\n",
       "      <th>short_description</th>\n",
       "      <th>authors</th>\n",
       "      <th>date</th>\n",
       "    </tr>\n",
       "  </thead>\n",
       "  <tbody>\n",
       "    <tr>\n",
       "      <th>0</th>\n",
       "      <td>https://www.huffpost.com/entry/covid-boosters-...</td>\n",
       "      <td>Over 4 Million Americans Roll Up Sleeves For O...</td>\n",
       "      <td>U.S. NEWS</td>\n",
       "      <td>Health experts said it is too early to predict...</td>\n",
       "      <td>Carla K. Johnson, AP</td>\n",
       "      <td>2022-09-23</td>\n",
       "    </tr>\n",
       "    <tr>\n",
       "      <th>1</th>\n",
       "      <td>https://www.huffpost.com/entry/american-airlin...</td>\n",
       "      <td>American Airlines Flyer Charged, Banned For Li...</td>\n",
       "      <td>U.S. NEWS</td>\n",
       "      <td>He was subdued by passengers and crew when he ...</td>\n",
       "      <td>Mary Papenfuss</td>\n",
       "      <td>2022-09-23</td>\n",
       "    </tr>\n",
       "    <tr>\n",
       "      <th>2</th>\n",
       "      <td>https://www.huffpost.com/entry/funniest-tweets...</td>\n",
       "      <td>23 Of The Funniest Tweets About Cats And Dogs ...</td>\n",
       "      <td>COMEDY</td>\n",
       "      <td>\"Until you have a dog you don't understand wha...</td>\n",
       "      <td>Elyse Wanshel</td>\n",
       "      <td>2022-09-23</td>\n",
       "    </tr>\n",
       "    <tr>\n",
       "      <th>3</th>\n",
       "      <td>https://www.huffpost.com/entry/funniest-parent...</td>\n",
       "      <td>The Funniest Tweets From Parents This Week (Se...</td>\n",
       "      <td>PARENTING</td>\n",
       "      <td>\"Accidentally put grown-up toothpaste on my to...</td>\n",
       "      <td>Caroline Bologna</td>\n",
       "      <td>2022-09-23</td>\n",
       "    </tr>\n",
       "    <tr>\n",
       "      <th>4</th>\n",
       "      <td>https://www.huffpost.com/entry/amy-cooper-lose...</td>\n",
       "      <td>Woman Who Called Cops On Black Bird-Watcher Lo...</td>\n",
       "      <td>U.S. NEWS</td>\n",
       "      <td>Amy Cooper accused investment firm Franklin Te...</td>\n",
       "      <td>Nina Golgowski</td>\n",
       "      <td>2022-09-22</td>\n",
       "    </tr>\n",
       "  </tbody>\n",
       "</table>\n",
       "</div>"
      ],
      "text/plain": [
       "                                                link  \\\n",
       "0  https://www.huffpost.com/entry/covid-boosters-...   \n",
       "1  https://www.huffpost.com/entry/american-airlin...   \n",
       "2  https://www.huffpost.com/entry/funniest-tweets...   \n",
       "3  https://www.huffpost.com/entry/funniest-parent...   \n",
       "4  https://www.huffpost.com/entry/amy-cooper-lose...   \n",
       "\n",
       "                                            headline   category  \\\n",
       "0  Over 4 Million Americans Roll Up Sleeves For O...  U.S. NEWS   \n",
       "1  American Airlines Flyer Charged, Banned For Li...  U.S. NEWS   \n",
       "2  23 Of The Funniest Tweets About Cats And Dogs ...     COMEDY   \n",
       "3  The Funniest Tweets From Parents This Week (Se...  PARENTING   \n",
       "4  Woman Who Called Cops On Black Bird-Watcher Lo...  U.S. NEWS   \n",
       "\n",
       "                                   short_description               authors  \\\n",
       "0  Health experts said it is too early to predict...  Carla K. Johnson, AP   \n",
       "1  He was subdued by passengers and crew when he ...        Mary Papenfuss   \n",
       "2  \"Until you have a dog you don't understand wha...         Elyse Wanshel   \n",
       "3  \"Accidentally put grown-up toothpaste on my to...      Caroline Bologna   \n",
       "4  Amy Cooper accused investment firm Franklin Te...        Nina Golgowski   \n",
       "\n",
       "        date  \n",
       "0 2022-09-23  \n",
       "1 2022-09-23  \n",
       "2 2022-09-23  \n",
       "3 2022-09-23  \n",
       "4 2022-09-22  "
      ]
     },
     "execution_count": 4,
     "metadata": {},
     "output_type": "execute_result"
    }
   ],
   "source": [
    "#news classification \n",
    "import pandas as pd \n",
    "df = pd.read_json('news_category.json', lines = True) \n",
    "print(df.shape)\n",
    "df.head()"
   ]
  },
  {
   "cell_type": "code",
   "execution_count": 5,
   "id": "08caed8a-d5ec-4dd9-a320-165aea73fa2a",
   "metadata": {},
   "outputs": [
    {
     "data": {
      "text/plain": [
       "category\n",
       "POLITICS          35602\n",
       "WELLNESS          17945\n",
       "ENTERTAINMENT     17362\n",
       "TRAVEL             9900\n",
       "STYLE & BEAUTY     9814\n",
       "PARENTING          8791\n",
       "HEALTHY LIVING     6694\n",
       "QUEER VOICES       6347\n",
       "FOOD & DRINK       6340\n",
       "BUSINESS           5992\n",
       "COMEDY             5400\n",
       "SPORTS             5077\n",
       "BLACK VOICES       4583\n",
       "HOME & LIVING      4320\n",
       "PARENTS            3955\n",
       "THE WORLDPOST      3664\n",
       "WEDDINGS           3653\n",
       "WOMEN              3572\n",
       "CRIME              3562\n",
       "IMPACT             3484\n",
       "DIVORCE            3426\n",
       "WORLD NEWS         3299\n",
       "MEDIA              2944\n",
       "WEIRD NEWS         2777\n",
       "GREEN              2622\n",
       "WORLDPOST          2579\n",
       "RELIGION           2577\n",
       "STYLE              2254\n",
       "SCIENCE            2206\n",
       "TECH               2104\n",
       "TASTE              2096\n",
       "MONEY              1756\n",
       "ARTS               1509\n",
       "ENVIRONMENT        1444\n",
       "FIFTY              1401\n",
       "GOOD NEWS          1398\n",
       "U.S. NEWS          1377\n",
       "ARTS & CULTURE     1339\n",
       "COLLEGE            1144\n",
       "LATINO VOICES      1130\n",
       "CULTURE & ARTS     1074\n",
       "EDUCATION          1014\n",
       "Name: count, dtype: int64"
      ]
     },
     "execution_count": 5,
     "metadata": {},
     "output_type": "execute_result"
    }
   ],
   "source": [
    "df.category.value_counts()"
   ]
  },
  {
   "cell_type": "code",
   "execution_count": 6,
   "id": "2c40c58f-7988-43e8-af29-98c108c5fac6",
   "metadata": {},
   "outputs": [
    {
     "data": {
      "text/html": [
       "<div>\n",
       "<style scoped>\n",
       "    .dataframe tbody tr th:only-of-type {\n",
       "        vertical-align: middle;\n",
       "    }\n",
       "\n",
       "    .dataframe tbody tr th {\n",
       "        vertical-align: top;\n",
       "    }\n",
       "\n",
       "    .dataframe thead th {\n",
       "        text-align: right;\n",
       "    }\n",
       "</style>\n",
       "<table border=\"1\" class=\"dataframe\">\n",
       "  <thead>\n",
       "    <tr style=\"text-align: right;\">\n",
       "      <th></th>\n",
       "      <th>link</th>\n",
       "      <th>headline</th>\n",
       "      <th>category</th>\n",
       "      <th>short_description</th>\n",
       "      <th>authors</th>\n",
       "      <th>date</th>\n",
       "    </tr>\n",
       "  </thead>\n",
       "  <tbody>\n",
       "    <tr>\n",
       "      <th>105757</th>\n",
       "      <td>https://www.huffingtonpost.com/entry/good-habi...</td>\n",
       "      <td>Good Habits Live Long</td>\n",
       "      <td>EDUCATION</td>\n",
       "      <td>My identity and story are built on passions an...</td>\n",
       "      <td>Write for the Future, ContributorCollege Admis...</td>\n",
       "      <td>2015-03-05</td>\n",
       "    </tr>\n",
       "    <tr>\n",
       "      <th>40136</th>\n",
       "      <td>https://www.huffingtonpost.com/entry/director-...</td>\n",
       "      <td>Director Of Christian Organization Calls On Ch...</td>\n",
       "      <td>EDUCATION</td>\n",
       "      <td>On February 07, 2017, Andrea Reyes Ramirez, ex...</td>\n",
       "      <td>Mercedes Schneider, ContributorPublic school t...</td>\n",
       "      <td>2017-03-20</td>\n",
       "    </tr>\n",
       "    <tr>\n",
       "      <th>116275</th>\n",
       "      <td>https://www.huffingtonpost.com/entry/states-sh...</td>\n",
       "      <td>States Should Be Giving You Useful Data About ...</td>\n",
       "      <td>EDUCATION</td>\n",
       "      <td>While report card day is a moment of truth for...</td>\n",
       "      <td>Aimee Rogstad Guidera, ContributorPresident an...</td>\n",
       "      <td>2014-11-04</td>\n",
       "    </tr>\n",
       "    <tr>\n",
       "      <th>118769</th>\n",
       "      <td>https://www.huffingtonpost.com/entry/closing-t...</td>\n",
       "      <td>Focusing on Closing the Gender Gap in School S...</td>\n",
       "      <td>EDUCATION</td>\n",
       "      <td>We need to find out how to prevent every schoo...</td>\n",
       "      <td>Jonathan J. Doll, PhD, ContributorSchool Safet...</td>\n",
       "      <td>2014-10-06</td>\n",
       "    </tr>\n",
       "    <tr>\n",
       "      <th>49435</th>\n",
       "      <td>https://www.huffingtonpost.com/entry/betsy-dev...</td>\n",
       "      <td>Betsy DeVos And Her 2015-16 School Choice Year...</td>\n",
       "      <td>EDUCATION</td>\n",
       "      <td>On November 23, 2016, President-elect Donald T...</td>\n",
       "      <td>Mercedes Schneider, ContributorPublic school t...</td>\n",
       "      <td>2016-12-05</td>\n",
       "    </tr>\n",
       "    <tr>\n",
       "      <th>...</th>\n",
       "      <td>...</td>\n",
       "      <td>...</td>\n",
       "      <td>...</td>\n",
       "      <td>...</td>\n",
       "      <td>...</td>\n",
       "      <td>...</td>\n",
       "    </tr>\n",
       "    <tr>\n",
       "      <th>128547</th>\n",
       "      <td>https://www.huffingtonpost.com/entry/yes-virgi...</td>\n",
       "      <td>Yes, Virginia, There Are Bad Teachers</td>\n",
       "      <td>EDUCATION</td>\n",
       "      <td>\"So I guess you just deny that there are any b...</td>\n",
       "      <td>Peter Greene, ContributorTeacher and writer; b...</td>\n",
       "      <td>2014-06-18</td>\n",
       "    </tr>\n",
       "    <tr>\n",
       "      <th>111612</th>\n",
       "      <td>https://www.huffingtonpost.com/entry/schools-n...</td>\n",
       "      <td>Schools Need to Prioritize Addressing Obesity ...</td>\n",
       "      <td>EDUCATION</td>\n",
       "      <td>By the sheer nature of how much time students ...</td>\n",
       "      <td>Roberto Padilla and Dr. Rawle Shewprashad, Con...</td>\n",
       "      <td>2014-12-27</td>\n",
       "    </tr>\n",
       "    <tr>\n",
       "      <th>97572</th>\n",
       "      <td>https://www.huffingtonpost.com/entry/lets-calm...</td>\n",
       "      <td>Let's Calm Down About the College Search</td>\n",
       "      <td>EDUCATION</td>\n",
       "      <td>Let's stop making college into something it's ...</td>\n",
       "      <td>Dana Laquidara, ContributorWriter, blogger, st...</td>\n",
       "      <td>2015-06-08</td>\n",
       "    </tr>\n",
       "    <tr>\n",
       "      <th>101097</th>\n",
       "      <td>https://www.huffingtonpost.com/entry/step-off-...</td>\n",
       "      <td>Step Off the Direct Path, Service Something La...</td>\n",
       "      <td>EDUCATION</td>\n",
       "      <td></td>\n",
       "      <td>GenDIY, ContributorGenDIY</td>\n",
       "      <td>2015-04-28</td>\n",
       "    </tr>\n",
       "    <tr>\n",
       "      <th>123143</th>\n",
       "      <td>https://www.huffingtonpost.com/entry/the-ultim...</td>\n",
       "      <td>The Ultimate Demise of Common Core - Part III:...</td>\n",
       "      <td>EDUCATION</td>\n",
       "      <td>When it comes to education, there seems to be ...</td>\n",
       "      <td>Matthew Lynch, Ed.D., ContributorAuthor of The...</td>\n",
       "      <td>2014-08-17</td>\n",
       "    </tr>\n",
       "  </tbody>\n",
       "</table>\n",
       "<p>1014 rows × 6 columns</p>\n",
       "</div>"
      ],
      "text/plain": [
       "                                                     link  \\\n",
       "105757  https://www.huffingtonpost.com/entry/good-habi...   \n",
       "40136   https://www.huffingtonpost.com/entry/director-...   \n",
       "116275  https://www.huffingtonpost.com/entry/states-sh...   \n",
       "118769  https://www.huffingtonpost.com/entry/closing-t...   \n",
       "49435   https://www.huffingtonpost.com/entry/betsy-dev...   \n",
       "...                                                   ...   \n",
       "128547  https://www.huffingtonpost.com/entry/yes-virgi...   \n",
       "111612  https://www.huffingtonpost.com/entry/schools-n...   \n",
       "97572   https://www.huffingtonpost.com/entry/lets-calm...   \n",
       "101097  https://www.huffingtonpost.com/entry/step-off-...   \n",
       "123143  https://www.huffingtonpost.com/entry/the-ultim...   \n",
       "\n",
       "                                                 headline   category  \\\n",
       "105757                              Good Habits Live Long  EDUCATION   \n",
       "40136   Director Of Christian Organization Calls On Ch...  EDUCATION   \n",
       "116275  States Should Be Giving You Useful Data About ...  EDUCATION   \n",
       "118769  Focusing on Closing the Gender Gap in School S...  EDUCATION   \n",
       "49435   Betsy DeVos And Her 2015-16 School Choice Year...  EDUCATION   \n",
       "...                                                   ...        ...   \n",
       "128547              Yes, Virginia, There Are Bad Teachers  EDUCATION   \n",
       "111612  Schools Need to Prioritize Addressing Obesity ...  EDUCATION   \n",
       "97572            Let's Calm Down About the College Search  EDUCATION   \n",
       "101097  Step Off the Direct Path, Service Something La...  EDUCATION   \n",
       "123143  The Ultimate Demise of Common Core - Part III:...  EDUCATION   \n",
       "\n",
       "                                        short_description  \\\n",
       "105757  My identity and story are built on passions an...   \n",
       "40136   On February 07, 2017, Andrea Reyes Ramirez, ex...   \n",
       "116275  While report card day is a moment of truth for...   \n",
       "118769  We need to find out how to prevent every schoo...   \n",
       "49435   On November 23, 2016, President-elect Donald T...   \n",
       "...                                                   ...   \n",
       "128547  \"So I guess you just deny that there are any b...   \n",
       "111612  By the sheer nature of how much time students ...   \n",
       "97572   Let's stop making college into something it's ...   \n",
       "101097                                                      \n",
       "123143  When it comes to education, there seems to be ...   \n",
       "\n",
       "                                                  authors       date  \n",
       "105757  Write for the Future, ContributorCollege Admis... 2015-03-05  \n",
       "40136   Mercedes Schneider, ContributorPublic school t... 2017-03-20  \n",
       "116275  Aimee Rogstad Guidera, ContributorPresident an... 2014-11-04  \n",
       "118769  Jonathan J. Doll, PhD, ContributorSchool Safet... 2014-10-06  \n",
       "49435   Mercedes Schneider, ContributorPublic school t... 2016-12-05  \n",
       "...                                                   ...        ...  \n",
       "128547  Peter Greene, ContributorTeacher and writer; b... 2014-06-18  \n",
       "111612  Roberto Padilla and Dr. Rawle Shewprashad, Con... 2014-12-27  \n",
       "97572   Dana Laquidara, ContributorWriter, blogger, st... 2015-06-08  \n",
       "101097                          GenDIY, ContributorGenDIY 2015-04-28  \n",
       "123143  Matthew Lynch, Ed.D., ContributorAuthor of The... 2014-08-17  \n",
       "\n",
       "[1014 rows x 6 columns]"
      ]
     },
     "execution_count": 6,
     "metadata": {},
     "output_type": "execute_result"
    }
   ],
   "source": [
    "min_samples = 1014 \n",
    "df_education = df[df.category==\"EDUCATION\"].sample(min_samples, random_state=2023)\n",
    "df_education"
   ]
  },
  {
   "cell_type": "code",
   "execution_count": 7,
   "id": "fbad831b-e602-4969-83a2-ea8077e17b74",
   "metadata": {},
   "outputs": [],
   "source": [
    "min_samples = 1014\n",
    "df_education = df[df.category==\"EDUCATION\"].sample(min_samples, random_state=2023)\n",
    "df_travel = df[df.category==\"TRAVEL\"].sample(min_samples, random_state=2023)\n",
    "df_parenting = df[df.category==\"PARENTING\"].sample(min_samples, random_state=2023)\n",
    "df_science = df[df.category==\"SCIENCE\"].sample(min_samples, random_state=2023)\n",
    "df_style = df[df.category==\"STYLE\"].sample(min_samples, random_state=2023)"
   ]
  },
  {
   "cell_type": "code",
   "execution_count": 8,
   "id": "893732c1-f78b-4b3e-87d5-b3b80280fd1e",
   "metadata": {},
   "outputs": [
    {
     "data": {
      "text/plain": [
       "category\n",
       "EDUCATION    1014\n",
       "TRAVEL       1014\n",
       "PARENTING    1014\n",
       "SCIENCE      1014\n",
       "STYLE        1014\n",
       "Name: count, dtype: int64"
      ]
     },
     "execution_count": 8,
     "metadata": {},
     "output_type": "execute_result"
    }
   ],
   "source": [
    "df_balanced = pd.concat([df_education,df_travel,df_parenting,df_science,df_style], axis=0)\n",
    "df_balanced.category.value_counts()"
   ]
  },
  {
   "cell_type": "code",
   "execution_count": 9,
   "id": "2e1ac33f-d05c-4e93-8321-bde795787247",
   "metadata": {},
   "outputs": [
    {
     "data": {
      "text/html": [
       "<div>\n",
       "<style scoped>\n",
       "    .dataframe tbody tr th:only-of-type {\n",
       "        vertical-align: middle;\n",
       "    }\n",
       "\n",
       "    .dataframe tbody tr th {\n",
       "        vertical-align: top;\n",
       "    }\n",
       "\n",
       "    .dataframe thead th {\n",
       "        text-align: right;\n",
       "    }\n",
       "</style>\n",
       "<table border=\"1\" class=\"dataframe\">\n",
       "  <thead>\n",
       "    <tr style=\"text-align: right;\">\n",
       "      <th></th>\n",
       "      <th>link</th>\n",
       "      <th>headline</th>\n",
       "      <th>category</th>\n",
       "      <th>short_description</th>\n",
       "      <th>authors</th>\n",
       "      <th>date</th>\n",
       "      <th>category_num</th>\n",
       "    </tr>\n",
       "  </thead>\n",
       "  <tbody>\n",
       "    <tr>\n",
       "      <th>105757</th>\n",
       "      <td>https://www.huffingtonpost.com/entry/good-habi...</td>\n",
       "      <td>Good Habits Live Long</td>\n",
       "      <td>EDUCATION</td>\n",
       "      <td>My identity and story are built on passions an...</td>\n",
       "      <td>Write for the Future, ContributorCollege Admis...</td>\n",
       "      <td>2015-03-05</td>\n",
       "      <td>0</td>\n",
       "    </tr>\n",
       "    <tr>\n",
       "      <th>40136</th>\n",
       "      <td>https://www.huffingtonpost.com/entry/director-...</td>\n",
       "      <td>Director Of Christian Organization Calls On Ch...</td>\n",
       "      <td>EDUCATION</td>\n",
       "      <td>On February 07, 2017, Andrea Reyes Ramirez, ex...</td>\n",
       "      <td>Mercedes Schneider, ContributorPublic school t...</td>\n",
       "      <td>2017-03-20</td>\n",
       "      <td>0</td>\n",
       "    </tr>\n",
       "    <tr>\n",
       "      <th>116275</th>\n",
       "      <td>https://www.huffingtonpost.com/entry/states-sh...</td>\n",
       "      <td>States Should Be Giving You Useful Data About ...</td>\n",
       "      <td>EDUCATION</td>\n",
       "      <td>While report card day is a moment of truth for...</td>\n",
       "      <td>Aimee Rogstad Guidera, ContributorPresident an...</td>\n",
       "      <td>2014-11-04</td>\n",
       "      <td>0</td>\n",
       "    </tr>\n",
       "    <tr>\n",
       "      <th>118769</th>\n",
       "      <td>https://www.huffingtonpost.com/entry/closing-t...</td>\n",
       "      <td>Focusing on Closing the Gender Gap in School S...</td>\n",
       "      <td>EDUCATION</td>\n",
       "      <td>We need to find out how to prevent every schoo...</td>\n",
       "      <td>Jonathan J. Doll, PhD, ContributorSchool Safet...</td>\n",
       "      <td>2014-10-06</td>\n",
       "      <td>0</td>\n",
       "    </tr>\n",
       "    <tr>\n",
       "      <th>49435</th>\n",
       "      <td>https://www.huffingtonpost.com/entry/betsy-dev...</td>\n",
       "      <td>Betsy DeVos And Her 2015-16 School Choice Year...</td>\n",
       "      <td>EDUCATION</td>\n",
       "      <td>On November 23, 2016, President-elect Donald T...</td>\n",
       "      <td>Mercedes Schneider, ContributorPublic school t...</td>\n",
       "      <td>2016-12-05</td>\n",
       "      <td>0</td>\n",
       "    </tr>\n",
       "  </tbody>\n",
       "</table>\n",
       "</div>"
      ],
      "text/plain": [
       "                                                     link  \\\n",
       "105757  https://www.huffingtonpost.com/entry/good-habi...   \n",
       "40136   https://www.huffingtonpost.com/entry/director-...   \n",
       "116275  https://www.huffingtonpost.com/entry/states-sh...   \n",
       "118769  https://www.huffingtonpost.com/entry/closing-t...   \n",
       "49435   https://www.huffingtonpost.com/entry/betsy-dev...   \n",
       "\n",
       "                                                 headline   category  \\\n",
       "105757                              Good Habits Live Long  EDUCATION   \n",
       "40136   Director Of Christian Organization Calls On Ch...  EDUCATION   \n",
       "116275  States Should Be Giving You Useful Data About ...  EDUCATION   \n",
       "118769  Focusing on Closing the Gender Gap in School S...  EDUCATION   \n",
       "49435   Betsy DeVos And Her 2015-16 School Choice Year...  EDUCATION   \n",
       "\n",
       "                                        short_description  \\\n",
       "105757  My identity and story are built on passions an...   \n",
       "40136   On February 07, 2017, Andrea Reyes Ramirez, ex...   \n",
       "116275  While report card day is a moment of truth for...   \n",
       "118769  We need to find out how to prevent every schoo...   \n",
       "49435   On November 23, 2016, President-elect Donald T...   \n",
       "\n",
       "                                                  authors       date  \\\n",
       "105757  Write for the Future, ContributorCollege Admis... 2015-03-05   \n",
       "40136   Mercedes Schneider, ContributorPublic school t... 2017-03-20   \n",
       "116275  Aimee Rogstad Guidera, ContributorPresident an... 2014-11-04   \n",
       "118769  Jonathan J. Doll, PhD, ContributorSchool Safet... 2014-10-06   \n",
       "49435   Mercedes Schneider, ContributorPublic school t... 2016-12-05   \n",
       "\n",
       "        category_num  \n",
       "105757             0  \n",
       "40136              0  \n",
       "116275             0  \n",
       "118769             0  \n",
       "49435              0  "
      ]
     },
     "execution_count": 9,
     "metadata": {},
     "output_type": "execute_result"
    }
   ],
   "source": [
    "target ={'EDUCATION':0, 'TRAVEL': 1, 'PARENTING':2, 'SCIENCE':3, 'STYLE':4 }\n",
    "df_balanced['category_num']=df_balanced.category.map({'EDUCATION':0, 'TRAVEL': 1, 'PARENTING':2, 'SCIENCE':3, 'STYLE':4})\n",
    "df_balanced.head()"
   ]
  },
  {
   "cell_type": "code",
   "execution_count": 12,
   "id": "69f5d7a4-f317-49b9-bd50-783d72a9f3c2",
   "metadata": {},
   "outputs": [],
   "source": [
    "from sklearn.model_selection import train_test_split\n",
    "X_train, X_test, y_train, y_test = train_test_split(df_balanced.headline, \n",
    "                                                    df_balanced.category_num, \n",
    "                                                    test_size=0.2, \n",
    "                                                    random_state=2023,\n",
    "                                                    stratify = df_balanced.category_num)#creates equal samples from all categories"
   ]
  },
  {
   "cell_type": "code",
   "execution_count": 23,
   "id": "dd770f45-f63f-49e1-b313-8d93a400ca7c",
   "metadata": {},
   "outputs": [
    {
     "data": {
      "text/plain": [
       "category_num\n",
       "3    812\n",
       "0    811\n",
       "2    811\n",
       "1    811\n",
       "4    811\n",
       "Name: count, dtype: int64"
      ]
     },
     "execution_count": 23,
     "metadata": {},
     "output_type": "execute_result"
    }
   ],
   "source": [
    "y_train.value_counts()"
   ]
  },
  {
   "cell_type": "code",
   "execution_count": 13,
   "id": "5939aed0-c575-4c9f-badc-dfd2a3b9dad1",
   "metadata": {},
   "outputs": [
    {
     "name": "stdout",
     "output_type": "stream",
     "text": [
      "              precision    recall  f1-score   support\n",
      "\n",
      "           0       0.77      0.80      0.78       203\n",
      "           1       0.81      0.70      0.75       203\n",
      "           2       0.70      0.73      0.72       203\n",
      "           3       0.80      0.74      0.77       202\n",
      "           4       0.75      0.85      0.80       203\n",
      "\n",
      "    accuracy                           0.76      1014\n",
      "   macro avg       0.77      0.76      0.76      1014\n",
      "weighted avg       0.77      0.76      0.76      1014\n",
      "\n"
     ]
    }
   ],
   "source": [
    "from sklearn.naive_bayes import MultinomialNB\n",
    "from sklearn.feature_extraction.text import CountVectorizer\n",
    "from sklearn.pipeline import Pipeline\n",
    "from sklearn.metrics import classification_report\n",
    "clf =Pipeline([\n",
    "    ('vectorizer_bow', CountVectorizer(ngram_range = (1,3))),\n",
    "    ('MultinomialNB', MultinomialNB())\n",
    "])\n",
    "clf.fit(X_train,y_train)\n",
    "y_pred= clf.predict(X_test)\n",
    "print(classification_report(y_test,y_pred))"
   ]
  },
  {
   "cell_type": "code",
   "execution_count": 14,
   "id": "bbef5fc4-b6e4-4e2f-84de-9b5116ccc8e6",
   "metadata": {},
   "outputs": [
    {
     "data": {
      "text/plain": [
       "166725    Al Gawahra Village: 30 Minutes by Horse Carria...\n",
       "111645    Merry Christmas, From Neil's Cheeky Twitter Ac...\n",
       "117905                    A Conversation on Getting Dressed\n",
       "112808         We'll Take This Purse In Every Color, Please\n",
       "62137     These Stars Brought Their A-Game To The ESPYs ...\n",
       "Name: headline, dtype: object"
      ]
     },
     "execution_count": 14,
     "metadata": {},
     "output_type": "execute_result"
    }
   ],
   "source": [
    "X_test[:5]"
   ]
  },
  {
   "cell_type": "code",
   "execution_count": 15,
   "id": "2909d0a7-2931-449f-bca0-cf49c5b8fa5e",
   "metadata": {},
   "outputs": [
    {
     "name": "stdout",
     "output_type": "stream",
     "text": [
      "(4056,)\n"
     ]
    },
    {
     "data": {
      "text/plain": [
       "126470    This Week In Science: Photosynthesis Pics, Inc...\n",
       "107799                                Learning From Failure\n",
       "151318              Dr. Toy's 10 Tips for Learning and Fun©\n",
       "133467    Rare Video Shows Insane Waterslide at New Jers...\n",
       "200736    Preterm Births: Numbers Soar Globally, U.S. Ra...\n",
       "Name: headline, dtype: object"
      ]
     },
     "execution_count": 15,
     "metadata": {},
     "output_type": "execute_result"
    }
   ],
   "source": [
    "print(X_train.shape)\n",
    "X_train.head()"
   ]
  },
  {
   "cell_type": "code",
   "execution_count": 23,
   "id": "35b79f7f-931b-47f3-a36c-cc24132a90b8",
   "metadata": {},
   "outputs": [],
   "source": [
    "import spacy \n",
    "nlp = spacy.load(\"en_core_web_sm\")\n",
    "\n",
    "def preprocess(text):\n",
    "    doc = nlp(text)\n",
    "    filtered_tokens = []\n",
    "    for token in doc:\n",
    "        if not token.is_stop and not token.is_punct:\n",
    "            filtered_tokens.append(token.text)\n",
    "    preprocessed_headline = ' '.join(filtered_tokens)\n",
    "    return preprocessed_headline\n"
   ]
  },
  {
   "cell_type": "code",
   "execution_count": 24,
   "id": "9cbc9dd3-f7c2-4ebc-82e5-0b8e665831ea",
   "metadata": {},
   "outputs": [],
   "source": [
    "df_balanced['preprocessed_headline']= df_balanced.headline.apply(preprocess)"
   ]
  },
  {
   "cell_type": "code",
   "execution_count": 29,
   "id": "ce3e7419-1caa-4d90-a5c1-516b6409fb22",
   "metadata": {},
   "outputs": [
    {
     "name": "stdout",
     "output_type": "stream",
     "text": [
      "                                                 headline  \\\n",
      "105757                              Good Habits Live Long   \n",
      "40136   Director Of Christian Organization Calls On Ch...   \n",
      "116275  States Should Be Giving You Useful Data About ...   \n",
      "118769  Focusing on Closing the Gender Gap in School S...   \n",
      "49435   Betsy DeVos And Her 2015-16 School Choice Year...   \n",
      "\n",
      "                                    preprocessed_headline  \n",
      "105757                              Good Habits Live Long  \n",
      "40136   Director Christian Organization Calls Christia...  \n",
      "116275         States Giving Useful Data Children Schools  \n",
      "118769       Focusing Closing Gender Gap School Shootings  \n",
      "49435          Betsy DeVos 2015 16 School Choice Yearbook  \n"
     ]
    }
   ],
   "source": [
    "print(df_balanced[['headline', 'preprocessed_headline']].head())"
   ]
  },
  {
   "cell_type": "code",
   "execution_count": null,
   "id": "ffec797b-d76f-4ba7-9cd8-7a2669906d65",
   "metadata": {},
   "outputs": [],
   "source": []
  }
 ],
 "metadata": {
  "kernelspec": {
   "display_name": "Python 3 (ipykernel)",
   "language": "python",
   "name": "python3"
  },
  "language_info": {
   "codemirror_mode": {
    "name": "ipython",
    "version": 3
   },
   "file_extension": ".py",
   "mimetype": "text/x-python",
   "name": "python",
   "nbconvert_exporter": "python",
   "pygments_lexer": "ipython3",
   "version": "3.12.1"
  }
 },
 "nbformat": 4,
 "nbformat_minor": 5
}
