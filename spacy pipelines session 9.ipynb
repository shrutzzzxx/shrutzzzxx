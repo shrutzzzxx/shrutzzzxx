{
 "cells": [
  {
   "cell_type": "code",
   "execution_count": 3,
   "id": "55ea1c01-750b-4189-83e9-f710723f71fa",
   "metadata": {},
   "outputs": [],
   "source": [
    "import spacy "
   ]
  },
  {
   "cell_type": "code",
   "execution_count": 5,
   "id": "37e66ac2-2efc-431f-8fb9-99aca22e5a17",
   "metadata": {},
   "outputs": [
    {
     "name": "stdout",
     "output_type": "stream",
     "text": [
      "Shruti\n",
      "loves\n",
      "spacy\n",
      "library\n",
      "because\n",
      "it\n",
      "is\n",
      "easy\n",
      "to\n",
      "use\n",
      ".\n"
     ]
    }
   ],
   "source": [
    "# without pipeline \n",
    "nlp = spacy.blank(\"en\")\n",
    "doc = nlp(\"Shruti loves spacy library because it is easy to use.\")\n",
    "for token in doc:\n",
    "    print(token)"
   ]
  },
  {
   "cell_type": "code",
   "execution_count": 6,
   "id": "f784aeda-935c-4b13-bb19-20e2e2ffe391",
   "metadata": {},
   "outputs": [
    {
     "data": {
      "text/plain": [
       "[]"
      ]
     },
     "execution_count": 6,
     "metadata": {},
     "output_type": "execute_result"
    }
   ],
   "source": [
    "nlp.pipe_names"
   ]
  },
  {
   "cell_type": "code",
   "execution_count": 7,
   "id": "e3db5201-178b-4631-a7cf-937b06bda449",
   "metadata": {},
   "outputs": [],
   "source": [
    "nlp = spacy.load(\"en_core_web_sm\")"
   ]
  },
  {
   "cell_type": "code",
   "execution_count": 8,
   "id": "533d9e52-e0e2-459c-a3ab-e0aef66fbd13",
   "metadata": {},
   "outputs": [
    {
     "data": {
      "text/plain": [
       "[('tok2vec', <spacy.pipeline.tok2vec.Tok2Vec at 0x1ce3a63af90>),\n",
       " ('tagger', <spacy.pipeline.tagger.Tagger at 0x1ce3a63ba70>),\n",
       " ('parser', <spacy.pipeline.dep_parser.DependencyParser at 0x1ce3a663ca0>),\n",
       " ('attribute_ruler',\n",
       "  <spacy.pipeline.attributeruler.AttributeRuler at 0x1ce3aa35110>),\n",
       " ('lemmatizer', <spacy.lang.en.lemmatizer.EnglishLemmatizer at 0x1ce3aa5df90>),\n",
       " ('ner', <spacy.pipeline.ner.EntityRecognizer at 0x1ce3a663760>)]"
      ]
     },
     "execution_count": 8,
     "metadata": {},
     "output_type": "execute_result"
    }
   ],
   "source": [
    "nlp.pipeline"
   ]
  },
  {
   "cell_type": "code",
   "execution_count": 9,
   "id": "a331ae83-49bf-43ad-a010-fb1a115a465d",
   "metadata": {},
   "outputs": [
    {
     "data": {
      "text/plain": [
       "['tok2vec', 'tagger', 'parser', 'attribute_ruler', 'lemmatizer', 'ner']"
      ]
     },
     "execution_count": 9,
     "metadata": {},
     "output_type": "execute_result"
    }
   ],
   "source": [
    "nlp.pipe_names"
   ]
  },
  {
   "cell_type": "code",
   "execution_count": 10,
   "id": "da6275b8-91e8-40ff-bb3a-bba0ee1a51aa",
   "metadata": {},
   "outputs": [
    {
     "name": "stdout",
     "output_type": "stream",
     "text": [
      "Shruti   |   PROPN   |   Shruti\n",
      "loves   |   VERB   |   love\n",
      "spacy   |   NOUN   |   spacy\n",
      "library   |   NOUN   |   library\n",
      "because   |   SCONJ   |   because\n",
      "it   |   PRON   |   it\n",
      "is   |   AUX   |   be\n",
      "easy   |   ADJ   |   easy\n",
      "to   |   PART   |   to\n",
      "use   |   VERB   |   use\n",
      ".   |   PUNCT   |   .\n"
     ]
    }
   ],
   "source": [
    "# with pipeline \n",
    "doc = nlp(\"Shruti loves spacy library because it is easy to use.\")\n",
    "for token in doc:\n",
    "    print(token, \"  |  \" , token.pos_, \"  |  \", token.lemma_)"
   ]
  },
  {
   "cell_type": "code",
   "execution_count": 11,
   "id": "531526e6-6823-4b35-9627-df3f312de3bb",
   "metadata": {},
   "outputs": [
    {
     "name": "stdout",
     "output_type": "stream",
     "text": [
      "Shruti | 383 | Companies, agencies, institutions, etc.\n",
      "1000$ | 394 | Monetary values, including unit\n"
     ]
    }
   ],
   "source": [
    "doc = nlp(\"Shruti eats food worth of 1000$\")\n",
    "for ent in doc.ents:\n",
    "    print(ent.text, \"|\", ent.label, \"|\", spacy.explain(ent.label_))"
   ]
  },
  {
   "cell_type": "code",
   "execution_count": 12,
   "id": "e3293ccc-0ce2-4b9f-9ea9-82f073e759f5",
   "metadata": {},
   "outputs": [
    {
     "data": {
      "text/html": [
       "<span class=\"tex2jax_ignore\"><div class=\"entities\" style=\"line-height: 2.5; direction: ltr\">\n",
       "<mark class=\"entity\" style=\"background: #7aecec; padding: 0.45em 0.6em; margin: 0 0.25em; line-height: 1; border-radius: 0.35em;\">\n",
       "    Shruti\n",
       "    <span style=\"font-size: 0.8em; font-weight: bold; line-height: 1; border-radius: 0.35em; vertical-align: middle; margin-left: 0.5rem\">ORG</span>\n",
       "</mark>\n",
       " eats food worth of \n",
       "<mark class=\"entity\" style=\"background: #e4e7d2; padding: 0.45em 0.6em; margin: 0 0.25em; line-height: 1; border-radius: 0.35em;\">\n",
       "    1000$\n",
       "    <span style=\"font-size: 0.8em; font-weight: bold; line-height: 1; border-radius: 0.35em; vertical-align: middle; margin-left: 0.5rem\">MONEY</span>\n",
       "</mark>\n",
       "</div></span>"
      ],
      "text/plain": [
       "<IPython.core.display.HTML object>"
      ]
     },
     "metadata": {},
     "output_type": "display_data"
    }
   ],
   "source": [
    "from spacy import displacy \n",
    "displacy.render(doc, style = \"ent\")"
   ]
  },
  {
   "cell_type": "code",
   "execution_count": 14,
   "id": "76dc256a-f48f-4430-93f1-cc886c5b1a34",
   "metadata": {},
   "outputs": [
    {
     "data": {
      "text/plain": [
       "['ner']"
      ]
     },
     "execution_count": 14,
     "metadata": {},
     "output_type": "execute_result"
    }
   ],
   "source": [
    "#custom pipelines \n",
    "source_nlp = spacy.load(\"en_core_web_sm\") \n",
    "nlp = spacy.blank(\"en\") \n",
    "nlp.add_pipe(\"ner\", source = source_nlp)\n",
    "nlp.pipe_names"
   ]
  },
  {
   "cell_type": "code",
   "execution_count": 15,
   "id": "1dfc5e37-b56e-4120-8181-d744a673204b",
   "metadata": {},
   "outputs": [
    {
     "name": "stdout",
     "output_type": "stream",
     "text": [
      "Shruti | 383 | Companies, agencies, institutions, etc.\n",
      "1000$ | 394 | Monetary values, including unit\n"
     ]
    }
   ],
   "source": [
    "doc = nlp(\"Shruti eats food worth of 1000$\")\n",
    "for ent in doc.ents:\n",
    "    print(ent.text, \"|\", ent.label, \"|\", spacy.explain(ent.label_))"
   ]
  }
 ],
 "metadata": {
  "kernelspec": {
   "display_name": "Python 3 (ipykernel)",
   "language": "python",
   "name": "python3"
  },
  "language_info": {
   "codemirror_mode": {
    "name": "ipython",
    "version": 3
   },
   "file_extension": ".py",
   "mimetype": "text/x-python",
   "name": "python",
   "nbconvert_exporter": "python",
   "pygments_lexer": "ipython3",
   "version": "3.12.1"
  }
 },
 "nbformat": 4,
 "nbformat_minor": 5
}
