{
 "cells": [
  {
   "cell_type": "code",
   "execution_count": 1,
   "id": "7a208bf3-9d94-49be-86e2-42442b6e2e2d",
   "metadata": {},
   "outputs": [],
   "source": [
    "import spacy "
   ]
  },
  {
   "cell_type": "code",
   "execution_count": null,
   "id": "44640387-322b-474d-997c-87cc62e751a1",
   "metadata": {},
   "outputs": [],
   "source": [
    "#sentence tokenization \n",
    "nlp = spacy.load(\"en_core_web_sm\")\n",
    "\n",
    "doc = nlp(\"My name is shruti. My brothers name is avinash.\")\n",
    "\n",
    "for sentence in doc.sents:\n",
    "    print(sentence)"
   ]
  },
  {
   "cell_type": "markdown",
   "id": "343430b9-3cb6-4b5c-9b00-3179528bda76",
   "metadata": {
    "scrolled": true
   },
   "source": [
    "for sentence in doc.sents:\n",
    "    for word in sentence:\n",
    "        print(word)"
   ]
  },
  {
   "cell_type": "code",
   "execution_count": null,
   "id": "18e480e6-f557-4d81-a237-45ebf238b0dc",
   "metadata": {
    "scrolled": true
   },
   "outputs": [],
   "source": [
    "import nltk "
   ]
  },
  {
   "cell_type": "code",
   "execution_count": null,
   "id": "26902fdb-209b-4cc5-90ba-d8499cfc1bbe",
   "metadata": {},
   "outputs": [],
   "source": [
    "from nltk.tokenizer import sent_tokenizer \n",
    "sent_tokenize(\"My name is shruti. My brothers name is avinash.\")"
   ]
  },
  {
   "cell_type": "code",
   "execution_count": null,
   "id": "1d1a661d-9f1a-4a3b-b4f2-3105408e6531",
   "metadata": {},
   "outputs": [],
   "source": []
  },
  {
   "cell_type": "code",
   "execution_count": null,
   "id": "24959324-f828-483a-8e03-be1ad3a3ce96",
   "metadata": {},
   "outputs": [],
   "source": []
  },
  {
   "cell_type": "code",
   "execution_count": null,
   "id": "a6c7a001-6e86-48a3-acc3-61f15455b6f8",
   "metadata": {},
   "outputs": [],
   "source": []
  }
 ],
 "metadata": {
  "kernelspec": {
   "display_name": "Python 3 (ipykernel)",
   "language": "python",
   "name": "python3"
  },
  "language_info": {
   "codemirror_mode": {
    "name": "ipython",
    "version": 3
   },
   "file_extension": ".py",
   "mimetype": "text/x-python",
   "name": "python",
   "nbconvert_exporter": "python",
   "pygments_lexer": "ipython3",
   "version": "3.12.1"
  }
 },
 "nbformat": 4,
 "nbformat_minor": 5
}
