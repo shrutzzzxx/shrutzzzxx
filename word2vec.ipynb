{
 "cells": [
  {
   "cell_type": "code",
   "execution_count": 3,
   "id": "af5536be-fe93-4067-bed7-1264a3ace294",
   "metadata": {},
   "outputs": [],
   "source": [
    "import gensim\n",
    "import pandas as pd"
   ]
  },
  {
   "cell_type": "code",
   "execution_count": 4,
   "id": "a5ed3eea-b35f-46d2-ac46-d83708fb72d9",
   "metadata": {},
   "outputs": [
    {
     "data": {
      "text/html": [
       "<div>\n",
       "<style scoped>\n",
       "    .dataframe tbody tr th:only-of-type {\n",
       "        vertical-align: middle;\n",
       "    }\n",
       "\n",
       "    .dataframe tbody tr th {\n",
       "        vertical-align: top;\n",
       "    }\n",
       "\n",
       "    .dataframe thead th {\n",
       "        text-align: right;\n",
       "    }\n",
       "</style>\n",
       "<table border=\"1\" class=\"dataframe\">\n",
       "  <thead>\n",
       "    <tr style=\"text-align: right;\">\n",
       "      <th></th>\n",
       "      <th>reviewerID</th>\n",
       "      <th>asin</th>\n",
       "      <th>reviewerName</th>\n",
       "      <th>helpful</th>\n",
       "      <th>reviewText</th>\n",
       "      <th>overall</th>\n",
       "      <th>summary</th>\n",
       "      <th>unixReviewTime</th>\n",
       "      <th>reviewTime</th>\n",
       "    </tr>\n",
       "  </thead>\n",
       "  <tbody>\n",
       "    <tr>\n",
       "      <th>0</th>\n",
       "      <td>A2IBPI20UZIR0U</td>\n",
       "      <td>1384719342</td>\n",
       "      <td>cassandra tu \"Yeah, well, that's just like, u...</td>\n",
       "      <td>[0, 0]</td>\n",
       "      <td>Not much to write about here, but it does exac...</td>\n",
       "      <td>5.0</td>\n",
       "      <td>good</td>\n",
       "      <td>1393545600</td>\n",
       "      <td>02 28, 2014</td>\n",
       "    </tr>\n",
       "    <tr>\n",
       "      <th>1</th>\n",
       "      <td>A14VAT5EAX3D9S</td>\n",
       "      <td>1384719342</td>\n",
       "      <td>Jake</td>\n",
       "      <td>[13, 14]</td>\n",
       "      <td>The product does exactly as it should and is q...</td>\n",
       "      <td>5.0</td>\n",
       "      <td>Jake</td>\n",
       "      <td>1363392000</td>\n",
       "      <td>03 16, 2013</td>\n",
       "    </tr>\n",
       "    <tr>\n",
       "      <th>2</th>\n",
       "      <td>A195EZSQDW3E21</td>\n",
       "      <td>1384719342</td>\n",
       "      <td>Rick Bennette \"Rick Bennette\"</td>\n",
       "      <td>[1, 1]</td>\n",
       "      <td>The primary job of this device is to block the...</td>\n",
       "      <td>5.0</td>\n",
       "      <td>It Does The Job Well</td>\n",
       "      <td>1377648000</td>\n",
       "      <td>08 28, 2013</td>\n",
       "    </tr>\n",
       "    <tr>\n",
       "      <th>3</th>\n",
       "      <td>A2C00NNG1ZQQG2</td>\n",
       "      <td>1384719342</td>\n",
       "      <td>RustyBill \"Sunday Rocker\"</td>\n",
       "      <td>[0, 0]</td>\n",
       "      <td>Nice windscreen protects my MXL mic and preven...</td>\n",
       "      <td>5.0</td>\n",
       "      <td>GOOD WINDSCREEN FOR THE MONEY</td>\n",
       "      <td>1392336000</td>\n",
       "      <td>02 14, 2014</td>\n",
       "    </tr>\n",
       "    <tr>\n",
       "      <th>4</th>\n",
       "      <td>A94QU4C90B1AX</td>\n",
       "      <td>1384719342</td>\n",
       "      <td>SEAN MASLANKA</td>\n",
       "      <td>[0, 0]</td>\n",
       "      <td>This pop filter is great. It looks and perform...</td>\n",
       "      <td>5.0</td>\n",
       "      <td>No more pops when I record my vocals.</td>\n",
       "      <td>1392940800</td>\n",
       "      <td>02 21, 2014</td>\n",
       "    </tr>\n",
       "  </tbody>\n",
       "</table>\n",
       "</div>"
      ],
      "text/plain": [
       "       reviewerID        asin  \\\n",
       "0  A2IBPI20UZIR0U  1384719342   \n",
       "1  A14VAT5EAX3D9S  1384719342   \n",
       "2  A195EZSQDW3E21  1384719342   \n",
       "3  A2C00NNG1ZQQG2  1384719342   \n",
       "4   A94QU4C90B1AX  1384719342   \n",
       "\n",
       "                                       reviewerName   helpful  \\\n",
       "0  cassandra tu \"Yeah, well, that's just like, u...    [0, 0]   \n",
       "1                                              Jake  [13, 14]   \n",
       "2                     Rick Bennette \"Rick Bennette\"    [1, 1]   \n",
       "3                         RustyBill \"Sunday Rocker\"    [0, 0]   \n",
       "4                                     SEAN MASLANKA    [0, 0]   \n",
       "\n",
       "                                          reviewText  overall  \\\n",
       "0  Not much to write about here, but it does exac...      5.0   \n",
       "1  The product does exactly as it should and is q...      5.0   \n",
       "2  The primary job of this device is to block the...      5.0   \n",
       "3  Nice windscreen protects my MXL mic and preven...      5.0   \n",
       "4  This pop filter is great. It looks and perform...      5.0   \n",
       "\n",
       "                                 summary  unixReviewTime   reviewTime  \n",
       "0                                   good      1393545600  02 28, 2014  \n",
       "1                                   Jake      1363392000  03 16, 2013  \n",
       "2                   It Does The Job Well      1377648000  08 28, 2013  \n",
       "3          GOOD WINDSCREEN FOR THE MONEY      1392336000  02 14, 2014  \n",
       "4  No more pops when I record my vocals.      1392940800  02 21, 2014  "
      ]
     },
     "execution_count": 4,
     "metadata": {},
     "output_type": "execute_result"
    }
   ],
   "source": [
    "df = pd.read_csv(\"Musical_instruments_reviews.csv\")\n",
    "df.head()"
   ]
  },
  {
   "cell_type": "code",
   "execution_count": 5,
   "id": "68edf217-4b48-4946-9289-08a574ccadc9",
   "metadata": {},
   "outputs": [
    {
     "data": {
      "text/plain": [
       "(10261, 9)"
      ]
     },
     "execution_count": 5,
     "metadata": {},
     "output_type": "execute_result"
    }
   ],
   "source": [
    "df.shape"
   ]
  },
  {
   "cell_type": "code",
   "execution_count": 7,
   "id": "0d04438d-a3b7-4164-aed8-9472069fda2b",
   "metadata": {},
   "outputs": [
    {
     "data": {
      "text/plain": [
       "0        Not much to write about here, but it does exac...\n",
       "1        The product does exactly as it should and is q...\n",
       "2        The primary job of this device is to block the...\n",
       "3        Nice windscreen protects my MXL mic and preven...\n",
       "4        This pop filter is great. It looks and perform...\n",
       "                               ...                        \n",
       "10256              Great, just as expected.  Thank to all.\n",
       "10257    I've been thinking about trying the Nanoweb st...\n",
       "10258    I have tried coated strings in the past ( incl...\n",
       "10259    Well, MADE by Elixir and DEVELOPED with Taylor...\n",
       "10260    These strings are really quite good, but I wou...\n",
       "Name: reviewText, Length: 10261, dtype: object"
      ]
     },
     "execution_count": 7,
     "metadata": {},
     "output_type": "execute_result"
    }
   ],
   "source": [
    "df.reviewText"
   ]
  },
  {
   "cell_type": "code",
   "execution_count": 8,
   "id": "2b82575f-5bf1-4d3d-a00e-d9214f09a75a",
   "metadata": {},
   "outputs": [
    {
     "data": {
      "text/plain": [
       "\"Not much to write about here, but it does exactly what it's supposed to. filters out the pop sounds. now my recordings are much more crisp. it is one of the lowest prices pop filters on amazon so might as well buy it, they honestly work the same despite their pricing,\""
      ]
     },
     "execution_count": 8,
     "metadata": {},
     "output_type": "execute_result"
    }
   ],
   "source": [
    "df.reviewText[0]"
   ]
  },
  {
   "cell_type": "code",
   "execution_count": 9,
   "id": "fd036bae-d1cd-4d61-ae75-de3955636f1c",
   "metadata": {},
   "outputs": [
    {
     "data": {
      "text/plain": [
       "['not',\n",
       " 'much',\n",
       " 'to',\n",
       " 'write',\n",
       " 'about',\n",
       " 'here',\n",
       " 'but',\n",
       " 'it',\n",
       " 'does',\n",
       " 'exactly',\n",
       " 'what',\n",
       " 'it',\n",
       " 'supposed',\n",
       " 'to',\n",
       " 'filters',\n",
       " 'out',\n",
       " 'the',\n",
       " 'pop',\n",
       " 'sounds',\n",
       " 'now',\n",
       " 'my',\n",
       " 'recordings',\n",
       " 'are',\n",
       " 'much',\n",
       " 'more',\n",
       " 'crisp',\n",
       " 'it',\n",
       " 'is',\n",
       " 'one',\n",
       " 'of',\n",
       " 'the',\n",
       " 'lowest',\n",
       " 'prices',\n",
       " 'pop',\n",
       " 'filters',\n",
       " 'on',\n",
       " 'amazon',\n",
       " 'so',\n",
       " 'might',\n",
       " 'as',\n",
       " 'well',\n",
       " 'buy',\n",
       " 'it',\n",
       " 'they',\n",
       " 'honestly',\n",
       " 'work',\n",
       " 'the',\n",
       " 'same',\n",
       " 'despite',\n",
       " 'their',\n",
       " 'pricing']"
      ]
     },
     "execution_count": 9,
     "metadata": {},
     "output_type": "execute_result"
    }
   ],
   "source": [
    "gensim.utils.simple_preprocess(\"Not much to write about here, but it does exactly what it's supposed to. filters out the pop sounds. now my recordings are much more crisp. it is one of the lowest prices pop filters on amazon so might as well buy it, they honestly work the same despite their pricing,\")"
   ]
  },
  {
   "cell_type": "code",
   "execution_count": 10,
   "id": "782d3d48-7674-4b5d-9e68-72500f4c2efd",
   "metadata": {},
   "outputs": [],
   "source": [
    "non_string_values = df[df['reviewText'].apply(lambda x: not isinstance(x, str))]['reviewText']"
   ]
  },
  {
   "cell_type": "code",
   "execution_count": 11,
   "id": "6c45f591-d953-4289-96af-a7a3e941ba35",
   "metadata": {},
   "outputs": [],
   "source": [
    "df['reviewText'] = df['reviewText'].astype(str)"
   ]
  },
  {
   "cell_type": "code",
   "execution_count": 12,
   "id": "280329ee-a45f-48d2-8cb5-d28ecc2d9fd7",
   "metadata": {},
   "outputs": [],
   "source": [
    "df['processed_review'] = df['reviewText'].apply(gensim.utils.simple_preprocess)"
   ]
  },
  {
   "cell_type": "code",
   "execution_count": 13,
   "id": "ae8ad97d-2df0-41f3-997f-cba9de2fcb47",
   "metadata": {},
   "outputs": [
    {
     "data": {
      "text/plain": [
       "0        [not, much, to, write, about, here, but, it, d...\n",
       "1        [the, product, does, exactly, as, it, should, ...\n",
       "2        [the, primary, job, of, this, device, is, to, ...\n",
       "3        [nice, windscreen, protects, my, mxl, mic, and...\n",
       "4        [this, pop, filter, is, great, it, looks, and,...\n",
       "                               ...                        \n",
       "10256          [great, just, as, expected, thank, to, all]\n",
       "10257    [ve, been, thinking, about, trying, the, nanow...\n",
       "10258    [have, tried, coated, strings, in, the, past, ...\n",
       "10259    [well, made, by, elixir, and, developed, with,...\n",
       "10260    [these, strings, are, really, quite, good, but...\n",
       "Name: reviewText, Length: 10261, dtype: object"
      ]
     },
     "execution_count": 13,
     "metadata": {},
     "output_type": "execute_result"
    }
   ],
   "source": [
    "review_text = df.reviewText.apply(gensim.utils.simple_preprocess)\n",
    "review_text"
   ]
  },
  {
   "cell_type": "code",
   "execution_count": 14,
   "id": "4d97c8e3-53eb-4b17-ac6d-e2ae03066dab",
   "metadata": {},
   "outputs": [],
   "source": [
    "model = gensim.models.Word2Vec(\n",
    "    window=10, #10 words before and after target word \n",
    "    min_count=2, # if u have sentence having setence dont take , it should have at least 2 words\n",
    "    workers= 4 # how many cpu threads needed to train the model\n",
    ")"
   ]
  },
  {
   "cell_type": "code",
   "execution_count": 15,
   "id": "ed0e671c-d3e2-43aa-995d-bbf938bb02cb",
   "metadata": {},
   "outputs": [],
   "source": [
    "#building vocabulary. \n",
    "model.build_vocab(review_text, progress_per = 1000)"
   ]
  },
  {
   "cell_type": "code",
   "execution_count": 16,
   "id": "71f42a20-4444-439c-a2cb-b95eebef6023",
   "metadata": {},
   "outputs": [
    {
     "data": {
      "text/plain": [
       "5"
      ]
     },
     "execution_count": 16,
     "metadata": {},
     "output_type": "execute_result"
    }
   ],
   "source": [
    "model.epochs  #time period "
   ]
  },
  {
   "cell_type": "code",
   "execution_count": 17,
   "id": "5666d4f8-59e8-4146-8fb5-fcc309e19664",
   "metadata": {},
   "outputs": [
    {
     "data": {
      "text/plain": [
       "(3222960, 4350950)"
      ]
     },
     "execution_count": 17,
     "metadata": {},
     "output_type": "execute_result"
    }
   ],
   "source": [
    "model.train(review_text, total_examples = model.corpus_count, epochs = model.epochs)"
   ]
  }
 ],
 "metadata": {
  "kernelspec": {
   "display_name": "Python 3 (ipykernel)",
   "language": "python",
   "name": "python3"
  },
  "language_info": {
   "codemirror_mode": {
    "name": "ipython",
    "version": 3
   },
   "file_extension": ".py",
   "mimetype": "text/x-python",
   "name": "python",
   "nbconvert_exporter": "python",
   "pygments_lexer": "ipython3",
   "version": "3.12.1"
  }
 },
 "nbformat": 4,
 "nbformat_minor": 5
}
